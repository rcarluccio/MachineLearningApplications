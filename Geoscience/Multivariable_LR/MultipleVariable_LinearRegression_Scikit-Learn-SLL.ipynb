{
 "cells": [
  {
   "cell_type": "markdown",
   "id": "96391282",
   "metadata": {},
   "source": [
    "# Predicting the effect of a sub-lithospheric layer on the partitioning of surface motion\n",
    "\n",
    "Sub-lithospheric layer width and viscosity parameters significantly affect trench and plate velocities.\n",
    "\n",
    "Computation simulations involving large and sharp variation in the physical properties of the material modelled are extremely computationally expensive and require several months or even years to run to completion.\n",
    "![alt](../img/SLL3D.png) "
   ]
  },
  {
   "cell_type": "markdown",
   "id": "6dfd4c97",
   "metadata": {},
   "source": [
    "<a name=\"toc_15456_3\"></a>\n",
    "# Scikit-Learn for Linear Regression With Multiple Variables (MLR) & Predictions\n",
    "\n",
    "MLR refers to a statistical technique that uses two or more independent variables to predict the outcome of a dependent variable. The technique enables analysts to determine the variation of the model and the relative contribution of each independent variable in the total variance. In other words Multiple regression is like linear regression, but with more than one independent value, meaning that we try to predict a value based on two or more variables\n",
    "\n",
    "## Goals:\n",
    "\n",
    " This notebook preditct trence and plate ratio for a given value of viscosity and width of SLL.\n",
    "    \n",
    "The model's prediction with multiple variables is given by the linear model:\n",
    "\n",
    "$$ f_{\\mathbf{w},b}(\\mathbf{x}) =  w_0x_0 + w_1x_1 +... + w_{n-1}x_{n-1} + b \\tag{1}$$\n",
    "or in vector notation:\n",
    "$$ f_{\\mathbf{w},b}(\\mathbf{x}) = \\mathbf{w} \\cdot \\mathbf{x} + b  \\tag{2} $$ \n",
    "where $\\cdot$ is a vector `dot product`\n"
   ]
  },
  {
   "cell_type": "code",
   "execution_count": 1,
   "id": "40f9fb30",
   "metadata": {},
   "outputs": [],
   "source": [
    "# Import Libraries\n",
    "import numpy as np\n",
    "import math, copy\n",
    "import matplotlib.pyplot as plt\n",
    "from sklearn import linear_model\n",
    "plt.style.use('./deeplearning.mplstyle')\n",
    "from lab_utils_multi import plt_house_x, plt_contour_wgrad, plt_divergence, plt_gradients"
   ]
  },
  {
   "cell_type": "code",
   "execution_count": 2,
   "id": "ef26804f",
   "metadata": {},
   "outputs": [],
   "source": [
    "# Trench and Plate velocities obtained from 3D simulations\n",
    "# Magnitude of plate velocity\n",
    "Vp_mag = np.array([\n",
    "         4.6999851528309344,\n",
    "         4.2751480911622135,\n",
    "         3.6497913944973508,\n",
    "         3.2736974878749741,\n",
    "         6.4611815337388379,\n",
    "         5.3561187289356731,\n",
    "         4.5125663357343422,\n",
    "         3.6241665283346278])\n",
    "# Trench migration rate\n",
    "Vt     = np.array([\n",
    "        -0.11995725,\n",
    "        -0.36236586,\n",
    "        -0.66254439,\n",
    "        -0.96785037,\n",
    "         0.99889706,\n",
    "         0.3911321 ,\n",
    "        -0.15118985,\n",
    "        -0.78003195])\n",
    "# Subduction Partitioning\n",
    "Subpart = Vt/Vp_mag\n",
    "\n",
    "# Compute features. \n",
    "km        = 1e3;\n",
    "\n",
    "# Mantle viscosity\n",
    "etaMantle = np.array([ \n",
    "            2.50000000e+21,   2.50000000e+21,\n",
    "            2.50000000e+21,   2.50000000e+21,           \n",
    "            2.50000000e+21,   2.50000000e+21,  \n",
    "            2.50000000e+21,   2.50000000e+21])\n",
    "# Sub-lithospheric layer viscosity\n",
    "etaSLL    = np.array([  \n",
    "                  \n",
    "            2.50000000e+20, 2.50000000e+20, \n",
    "            2.50000000e+20,2.50000000e+20,\n",
    "            2.500000000e+19,   2.500000000e+19,\n",
    "            2.500000000e+19,   2.500000000e+19,])\n",
    "# Oceanic plate width\n",
    "widthOP   = np.array([   \n",
    "                  3000.*km,   3000.*km,\n",
    "                  3000.*km,   3000.*km,  \n",
    "                  \n",
    "                  3000.*km,3000.*km,   \n",
    "                 3000.*km,3000.*km,   ])\n",
    "\n",
    "# SLL width\n",
    "widthSLL   = np.array([    \n",
    "             3000*km,   2250*km,            \n",
    "             1500.*km,   750.*km,               \n",
    "             3000*km,   2250*km,\n",
    "             1500.*km,   750.*km ])\n",
    "# Viscosity ratio between SLL and mantle\n",
    "eta_ratio  = etaSLL/etaMantle\n",
    "# Width ration between SLL and oceanic plate\n",
    "w_star     = widthSLL/widthOP"
   ]
  },
  {
   "cell_type": "code",
   "execution_count": 3,
   "id": "eaf30d6e",
   "metadata": {},
   "outputs": [],
   "source": [
    "# Initialise the problem\n",
    "x1_train = eta_ratio\n",
    "x2_train = w_star\n",
    "y_train  = Subpart\n",
    "X_features = ['$\\eta_{SLL}/\\eta_{UM}$','$W^{*}$']\n",
    "X_train = [] \n",
    "for i in range (len(x1_train)):\n",
    "\n",
    "    X_train.append([x1_train[i],x2_train[i]])\n",
    "    \n",
    "X_train = np.array(X_train)\n",
    "m = y_train.shape[0]"
   ]
  },
  {
   "cell_type": "code",
   "execution_count": 4,
   "id": "381e11be",
   "metadata": {},
   "outputs": [
    {
     "name": "stdout",
     "output_type": "stream",
     "text": [
      "Regression coeffients and intercept: w[0]: -1.5732e+00,w[1]:  4.2463e-01, b: -2.5494e-01\n"
     ]
    }
   ],
   "source": [
    "regr = linear_model.LinearRegression()\n",
    "regr.fit(X_train, y_train)\n",
    "print(f\"Regression coeffients and intercept: w[0]: {regr.coef_[0]: 0.4e},w[1]: {regr.coef_[1]: 0.4e}, b: {regr.intercept_: 0.4e}\")"
   ]
  },
  {
   "cell_type": "code",
   "execution_count": 5,
   "id": "b598767d",
   "metadata": {},
   "outputs": [
    {
     "name": "stdout",
     "output_type": "stream",
     "text": [
      "Predicted_VtVP: [-0.04419761]\n"
     ]
    }
   ],
   "source": [
    "# Make a prediction for a hypothetical value of viscosity and width contrast\n",
    "predictedVtVP = regr.predict([[0.001, 0.5]])\n",
    "print(\"Predicted_VtVP:\", predictedVtVP)"
   ]
  },
  {
   "cell_type": "code",
   "execution_count": 6,
   "id": "b08cf922",
   "metadata": {},
   "outputs": [
    {
     "name": "stdout",
     "output_type": "stream",
     "text": [
      "R2score: 0.9634737607161518\n",
      "Y target [-0.0255229  -0.08476101 -0.18152939 -0.29564441  0.15459975  0.07302529\n",
      " -0.03350418 -0.21523071] Predictions: [ 0.01237211 -0.09378558 -0.19994327 -0.30610096  0.15395907  0.04780138\n",
      " -0.05835631 -0.164514  ]\n"
     ]
    }
   ],
   "source": [
    "# Sklearn's model.score(X,y) calculation is based on co-efficient of determination i.e R^2 that takes model.score= (X_test,y_test). \n",
    "regr.score(X_train, y_train)\n",
    "\n",
    "#R2, which is how much more accurate your regression line is compared to the mean. Alternativey you can use\n",
    "from sklearn.metrics import r2_score\n",
    "\n",
    "preds = regr.predict(X_train)\n",
    "\n",
    "print (\"R2score:\", r2_score(y_train, preds))\n",
    "print (\"Y target\", y_train, \"Predictions:\", preds)"
   ]
  },
  {
   "cell_type": "code",
   "execution_count": 7,
   "id": "12a61c32",
   "metadata": {},
   "outputs": [
    {
     "data": {
      "image/png": "[encoded data removed]",
      "text/plain": [
       "<Figure size 1200x300 with 2 Axes>"
      ]
     },
     "metadata": {},
     "output_type": "display_data"
    }
   ],
   "source": [
    "# plot predictions and targets versus original features    \n",
    "fig,ax=plt.subplots(1,2, figsize=(12, 3), sharey=True)\n",
    "for i in range(len(ax)):\n",
    "    ax[i].scatter(X_train[:,i],y_train, label = 'target')\n",
    "    ax[i].set_xlabel(X_features[i])\n",
    "    ax[i].scatter(X_train[:,i],preds,color = [\"orange\"], label = 'predict')\n",
    "#ax[0].set_ylabel(\"Price\"); ax[0].legend();\n",
    "fig.suptitle(\"target versus prediction\")\n",
    "plt.show()"
   ]
  }
 ],
 "metadata": {
  "kernelspec": {
   "display_name": "Python 3 (ipykernel)",
   "language": "python",
   "name": "python3"
  },
  "language_info": {
   "codemirror_mode": {
    "name": "ipython",
    "version": 3
   },
   "file_extension": ".py",
   "mimetype": "text/x-python",
   "name": "python",
   "nbconvert_exporter": "python",
   "pygments_lexer": "ipython3",
   "version": "3.11.4"
  }
 },
 "nbformat": 4,
 "nbformat_minor": 5
}
